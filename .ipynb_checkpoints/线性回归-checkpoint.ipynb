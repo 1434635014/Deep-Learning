{
 "cells": [
  {
   "cell_type": "code",
   "execution_count": 8,
   "metadata": {},
   "outputs": [
    {
     "name": "stdout",
     "output_type": "stream",
     "text": [
      "x统计特性：均值 = 3.220 方差 = 8.728\n",
      "y统计特性：均值 = 3.200 方差 = 9.500\n",
      "协方差 = : 7.840\n"
     ]
    },
    {
     "data": {
      "image/png": "[encoded data removed]",
      "text/plain": [
       "<Figure size 432x288 with 1 Axes>"
      ]
     },
     "metadata": {
      "needs_background": "light"
     },
     "output_type": "display_data"
    },
    {
     "name": "stdout",
     "output_type": "stream",
     "text": [
      "回归系数分别为 = : w0=0.308, w1=0.898\n"
     ]
    }
   ],
   "source": [
    "import matplotlib.pyplot as plt\n",
    "\n",
    "# 计算均值\n",
    "def mean(values):\n",
    "    return sum(values) / float(len(values))\n",
    "# 计算方差\n",
    "def variance(values, mean):\n",
    "    return sum([(x-mean)**2 for x in values])\n",
    "# 计算协方差\n",
    "def covariance(x, mean_x, y, mean_y):\n",
    "    covar = 0.0\n",
    "    for i in range(len(x)):\n",
    "        covar += (x[i] - mean_x) * (y[i] - mean_y)\n",
    "    return covar\n",
    "# 计算回归系数的函数\n",
    "def coefficients(dataset):\n",
    "    mean_x, mean_y = mean(x), mean(y)\n",
    "    var_x, var_y = variance(x, mean_x), variance(y, mean_y)\n",
    "    covar = covariance(x, mean_x, y, mean_y)\n",
    "    w1 = covar / var_x\n",
    "    w0 = mean_y - w1 * mean_x\n",
    "    print('x统计特性：均值 = %.3f 方差 = %.3f' % (mean_x, var_x))\n",
    "    print('y统计特性：均值 = %.3f 方差 = %.3f' % (mean_y, var_y))\n",
    "    print('协方差 = : %.3f' % (covar))\n",
    "    return w0, w1\n",
    "# 预测\n",
    "def simple_linear_regresson(train, test):\n",
    "    predict = list()                 # 构建空列表\n",
    "    w0, w1 = coefficients(train)     # 从训练集合中获取回归系数\n",
    "    for row in test:                 # 从测试集中多去每一个不同的x\n",
    "        y_model = w1 * row[0] + w0   # 用模型预测y\n",
    "        predict.append(y_model)      # 记录每一个预测值y\n",
    "    return predict\n",
    "\n",
    "dataset = [[1.2, 1.1], [2.4, 3.5], [4.1, 3.2], [3.4, 2.8], [5, 5.4]]\n",
    "x = [row[0] for row in dataset]\n",
    "y = [row[1] for row in dataset]\n",
    "\n",
    "w0, w1 = coefficients(dataset)\n",
    "\n",
    "plt.axis([0, 6, 0, 6])\n",
    "plt.plot(x, y, 'bs')\n",
    "plt.grid()\n",
    "plt.show()\n",
    "# plt.savefig('scatter.png')\n",
    "\n",
    "print('回归系数分别为 = : w0=%.3f, w1=%.3f' % (w0, w1))\n"
   ]
  },
  {
   "cell_type": "code",
   "execution_count": 40,
   "metadata": {},
   "outputs": [
    {
     "name": "stdout",
     "output_type": "stream",
     "text": [
      "y = 68.744\t\n",
      "y = 82.639\t\n",
      "y = 86.113\t\n",
      "RMSE: 22.489\n"
     ]
    },
    {
     "data": {
      "image/png": "[encoded data removed]",
      "text/plain": [
       "<Figure size 432x288 with 1 Axes>"
      ]
     },
     "metadata": {
      "needs_background": "light"
     },
     "output_type": "display_data"
    }
   ],
   "source": [
    "from math import sqrt\n",
    "from random import seed\n",
    "from random import randrange\n",
    "from csv import reader\n",
    "import matplotlib.pyplot as plt\n",
    "\n",
    "dataset = [[1.2, 1.1], [2.4, 3.5], [4.1, 3.2], [3.4, 2.8], [5, 5.4], [6, 5.8], [6.5, 6.4], [7.5, 8.4]]\n",
    "# 导入csv文件\n",
    "def load_csv(filename):\n",
    "    dataset = list()\n",
    "    with open(filename, 'r') as file:\n",
    "        csv_reader = reader(file)\n",
    "        # 读取表头 X,Y\n",
    "        headings = next(csv_reader)\n",
    "        # 文件指针下移第一条真正的数据\n",
    "        for row in csv_reader:\n",
    "            if not row:      # 判定是否有空行，如有，则跳入下一行，继续读取数据\n",
    "                continue\n",
    "            dataset.append(row)\n",
    "    for col in range(len(dataset[0])):\n",
    "        str_column_to_float(dataset, col)\n",
    "    return dataset\n",
    "\n",
    "# 将字符串列转为浮点数\n",
    "def str_column_to_float(dataset, column):\n",
    "    for row in dataset:\n",
    "        row[column] = float(row[column].strip())\n",
    "        \n",
    "# 将数据集分为训练集合和测试集合两部分\n",
    "def train_test_split(dataset, percent):\n",
    "    train = list()\n",
    "    train_size = percent * len(dataset)\n",
    "    dataset_copy = list(dataset)\n",
    "    while len(train) < train_size:\n",
    "        index = randrange(len(dataset_copy))\n",
    "        train.append(dataset_copy.pop(index))\n",
    "    return train, dataset_copy\n",
    "                          \n",
    "# 计算均值\n",
    "def mean(values):\n",
    "    return sum(values) / float(len(values))\n",
    "# 计算方差\n",
    "def variance(values, mean):\n",
    "    return sum([(x-mean)**2 for x in values])\n",
    "# 计算协方差\n",
    "def covariance(x, mean_x, y, mean_y):\n",
    "    covar = 0.0\n",
    "    for i in range(len(x)):\n",
    "        covar += (x[i] - mean_x) * (y[i] - mean_y)\n",
    "    return covar\n",
    "# 计算回归系数的函数\n",
    "def coefficients(dataset):\n",
    "    x = [row[0] for row in dataset]\n",
    "    y = [row[1] for row in dataset]\n",
    "    mean_x, mean_y = mean(x), mean(y)\n",
    "    var_x, var_y = variance(x, mean_x), variance(y, mean_y)\n",
    "    covar = covariance(x, mean_x, y, mean_y)\n",
    "    w1 = covar / var_x\n",
    "    w0 = mean_y - w1 * mean_x\n",
    "    # print('x统计特性：均值 = %.3f 方差 = %.3f' % (mean_x, var_x))\n",
    "    # print('y统计特性：均值 = %.3f 方差 = %.3f' % (mean_y, var_y))\n",
    "    # print('协方差 = : %.3f' % (covar))\n",
    "    return w0, w1\n",
    "# 计算均方根误差 RMSE\n",
    "def rmse_metric(actual, predicted):\n",
    "    sum_error = 0.0\n",
    "    for i in range(len(actual)):\n",
    "        prediction_error = predicted[i] - actual[i]\n",
    "        sum_error += (prediction_error ** 2)\n",
    "    mean_error = sum_error / float(len(actual))\n",
    "    return sqrt(mean_error)\n",
    "# 构建简单的线性回归\n",
    "def simple_linear_regression(train, test):\n",
    "    predictions = list()                 # 构建空列表\n",
    "    w0, w1 = coefficients(train)     # 从训练集合中获取回归系数\n",
    "    for row in test:                 # 从测试集中多去每一个不同的x\n",
    "        y_model = w1 * row[0] + w0   # 用模型预测y\n",
    "        predictions.append(y_model)      # 记录每一个预测值y\n",
    "    return predictions\n",
    "# 评估算法数据准备及协调\n",
    "def evaluate_algorithm(dataset, algorithm, split_percent, *args):\n",
    "    train, test = train_test_split(dataset, split_percent)\n",
    "    test_set = list()\n",
    "    for row in test:\n",
    "        row_copy = list(row)\n",
    "        row_copy[-1] = None\n",
    "        test_set.append(row_copy)\n",
    "    predicted = algorithm(train, test_set, *args)\n",
    "    for val in predicted:\n",
    "        print('y = %.3f\\t' % (val))\n",
    "    \n",
    "    actual = [row[-1] for row in test]\n",
    "    rmse = rmse_metric(actual, predicted)\n",
    "    return rmse, predicted, train, test\n",
    "\n",
    "# 设置随机种子，为随机挑选训练和测试数据集做准备\n",
    "seed(2)\n",
    "# 导入保险数据并做数据分割准备\n",
    "filename = './csv/data.csv'\n",
    "dataset = load_csv(filename)\n",
    "    \n",
    "# 设置数据集合分割百分比\n",
    "percent = 0.7\n",
    "\n",
    "# 返回 RMSE\n",
    "rmse, predicted, train, test = evaluate_algorithm(dataset, simple_linear_regression, percent)\n",
    "print('RMSE: %.3f' % (rmse))\n",
    "\n",
    "x = [row[0] for row in test]\n",
    "y = [row[1] for row in test]\n",
    "plt.plot(x, y, 'bs')\n",
    "plt.plot(x, predicted)\n",
    "plt.grid()\n",
    "plt.show()\n",
    "\n",
    "\n"
   ]
  },
  {
   "cell_type": "code",
   "execution_count": null,
   "metadata": {},
   "outputs": [],
   "source": []
  },
  {
   "cell_type": "code",
   "execution_count": null,
   "metadata": {},
   "outputs": [],
   "source": []
  }
 ],
 "metadata": {
  "kernelspec": {
   "display_name": "Python 3",
   "language": "python",
   "name": "python3"
  },
  "language_info": {
   "codemirror_mode": {
    "name": "ipython",
    "version": 3
   },
   "file_extension": ".py",
   "mimetype": "text/x-python",
   "name": "python",
   "nbconvert_exporter": "python",
   "pygments_lexer": "ipython3",
   "version": "3.7.0"
  }
 },
 "nbformat": 4,
 "nbformat_minor": 2
}
