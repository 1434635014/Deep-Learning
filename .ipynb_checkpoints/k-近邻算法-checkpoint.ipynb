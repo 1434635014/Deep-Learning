{
 "cells": [
  {
   "cell_type": "code",
   "execution_count": 3,
   "metadata": {},
   "outputs": [
    {
     "name": "stdout",
     "output_type": "stream",
     "text": [
      "-6 24\n",
      "[0.4        0.26666667 1.         0.         0.53333333]\n"
     ]
    }
   ],
   "source": [
    "# 归一化处理\n",
    "import numpy as np\n",
    "a = np.array([6, 2, 24, -6, 10])    # 构建一个矩阵\n",
    "a_min, a_max = a.min(),a.max()      # 求得最小值，最大值\n",
    "print(a_min, a_max)\n",
    "a_nomal = (a - a_min) / (a_max - a_min)   # 求得归一化矩阵\n",
    "print(a_nomal)"
   ]
  },
  {
   "cell_type": "code",
   "execution_count": 12,
   "metadata": {},
   "outputs": [
    {
     "data": {
      "image/png": "[encoded data removed]",
      "text/plain": [
       "<Figure size 432x288 with 1 Axes>"
      ]
     },
     "metadata": {
      "needs_background": "light"
     },
     "output_type": "display_data"
    }
   ],
   "source": [
    "import pandas as pd\n",
    "import matplotlib.pyplot as plt\n",
    "import numpy as py\n",
    "\n",
    "df = pd.read_csv('https://archive.ics.uci.edu/ml/machine-learning-databases/iris/iris.data', header=None)\n",
    "X = df.iloc[0:150, [0,2]].values\n",
    "plt.scatter(X[0:50,0], X[0:50,1], color='blue', marker='x', label='setosa')\n",
    "plt.scatter(X[50:100,0], X[50:100,1], color='red', marker='o', label='varsicolor')\n",
    "plt.scatter(X[100:150,0], X[100:150,1], color='green', marker='*', label='virgincia')\n",
    "plt.xlabel('petal width')\n",
    "plt.ylabel('sepal length')\n",
    "plt.legend(loc='upper left')\n",
    "plt.show()\n"
   ]
  },
  {
   "cell_type": "code",
   "execution_count": 47,
   "metadata": {},
   "outputs": [
    {
     "name": "stdout",
     "output_type": "stream",
     "text": [
      "训练集合样本数 108\n",
      "测试集合样本数 42\n",
      ">预测='Iris-setosa',实际='Iris-setosa'\n",
      ">预测='Iris-setosa',实际='Iris-setosa'\n",
      ">预测='Iris-setosa',实际='Iris-setosa'\n",
      ">预测='Iris-setosa',实际='Iris-setosa'\n",
      ">预测='Iris-setosa',实际='Iris-setosa'\n",
      ">预测='Iris-setosa',实际='Iris-setosa'\n",
      ">预测='Iris-setosa',实际='Iris-setosa'\n",
      ">预测='Iris-setosa',实际='Iris-setosa'\n",
      ">预测='Iris-setosa',实际='Iris-setosa'\n",
      ">预测='Iris-setosa',实际='Iris-setosa'\n",
      ">预测='Iris-setosa',实际='Iris-setosa'\n",
      ">预测='Iris-versicolor',实际='Iris-versicolor'\n",
      ">预测='Iris-versicolor',实际='Iris-versicolor'\n",
      ">预测='Iris-versicolor',实际='Iris-versicolor'\n",
      ">预测='Iris-versicolor',实际='Iris-versicolor'\n",
      ">预测='Iris-versicolor',实际='Iris-versicolor'\n",
      ">预测='Iris-versicolor',实际='Iris-versicolor'\n",
      ">预测='Iris-versicolor',实际='Iris-versicolor'\n",
      ">预测='Iris-versicolor',实际='Iris-versicolor'\n",
      ">预测='Iris-versicolor',实际='Iris-versicolor'\n",
      ">预测='Iris-versicolor',实际='Iris-versicolor'\n",
      ">预测='Iris-versicolor',实际='Iris-versicolor'\n",
      ">预测='Iris-versicolor',实际='Iris-versicolor'\n",
      ">预测='Iris-versicolor',实际='Iris-versicolor'\n",
      ">预测='Iris-versicolor',实际='Iris-versicolor'\n",
      ">预测='Iris-versicolor',实际='Iris-versicolor'\n",
      ">预测='Iris-versicolor',实际='Iris-versicolor'\n",
      ">预测='Iris-versicolor',实际='Iris-versicolor'\n",
      ">预测='Iris-virginica',实际='Iris-virginica'\n",
      ">预测='Iris-virginica',实际='Iris-virginica'\n",
      ">预测='Iris-virginica',实际='Iris-virginica'\n",
      ">预测='Iris-virginica',实际='Iris-virginica'\n",
      ">预测='Iris-virginica',实际='Iris-virginica'\n",
      ">预测='Iris-virginica',实际='Iris-virginica'\n",
      ">预测='Iris-virginica',实际='Iris-virginica'\n",
      ">预测='Iris-virginica',实际='Iris-virginica'\n",
      ">预测='Iris-virginica',实际='Iris-virginica'\n",
      ">预测='Iris-virginica',实际='Iris-virginica'\n",
      ">预测='Iris-virginica',实际='Iris-virginica'\n",
      ">预测='Iris-virginica',实际='Iris-virginica'\n",
      ">预测='Iris-virginica',实际='Iris-virginica'\n",
      ">预测='Iris-virginica',实际='Iris-virginica'\n",
      "精确度为：100.0\n"
     ]
    }
   ],
   "source": [
    "import csv\n",
    "import random\n",
    "import math\n",
    "import operator\n",
    "\n",
    "# 加载数据\n",
    "def loadDataset(filename, split, trainingSet=[], testSet=[]):\n",
    "    with open(filename, 'r') as csvfile:\n",
    "        lines = csv.reader(csvfile)\n",
    "        dataset = list(lines)\n",
    "        for x in range(len(dataset)):\n",
    "            for y in range(4):\n",
    "                dataset[x][y] = float(dataset[x][y])\n",
    "            if random.random() < split:\n",
    "                trainingSet.append(dataset[x])\n",
    "            else:\n",
    "                testSet.append(dataset[x])\n",
    "    return trainingSet, testSet\n",
    "# 计算欧氏距离\n",
    "def EuclidDist(instance1, instance2, len):\n",
    "    distance = 0.0\n",
    "    for x in range(len):\n",
    "        distance += pow((instance1[x] - instance2[x]), 2)\n",
    "    return math.sqrt(distance)\n",
    "# 寻找未知点的邻居\n",
    "def getNeighbors(trainSet, testInstance, k):\n",
    "    distances = []\n",
    "    length = len(testInstance)-1\n",
    "    for x in range(len(trainSet)):\n",
    "        dist = EuclidDist(testInstance, trainSet[x], length)\n",
    "        distances.append((trainSet[x], dist))\n",
    "    distances.sort(key=operator.itemgetter(1))\n",
    "    neighbors = []\n",
    "    for x in range(k):\n",
    "        neighbors.append(distances[x][0])\n",
    "    return neighbors\n",
    "# 定义判断归属\n",
    "def getClass(neighbors):\n",
    "    classVotes = {}\n",
    "    for x in range(len(neighbors)):\n",
    "        instance_class = neighbors[x][-1]\n",
    "        if instance_class in classVotes:\n",
    "            classVotes[instance_class] += 1\n",
    "        else:\n",
    "            classVotes[instance_class] = 1\n",
    "    sortedVotes = sorted(classVotes.items(), key=operator.itemgetter(1), reverse=True)\n",
    "    return sortedVotes[0][0]\n",
    "# 模型评估\n",
    "def getAccuracy(testSet, predictions):\n",
    "    correct = 0\n",
    "    for x in range(len(testSet)):\n",
    "        if testSet[x][-1] == predictions[x]:\n",
    "            correct += 1\n",
    "    return (correct/float(len(testSet)) * 100.0)\n",
    "\n",
    "def main():\n",
    "    trainingSet, testSet = loadDataset('./csv/iris.data', 0.70)\n",
    "    print('训练集合样本数', repr(len(trainingSet)))\n",
    "    print('测试集合样本数', repr(len(testSet)))\n",
    "    predictions = []\n",
    "    k = 3\n",
    "    for x in range(len(testSet)):\n",
    "        neighbors = getNeighbors(trainingSet, testSet[x], k)\n",
    "        result = getClass(neighbors)\n",
    "        predictions.append(result)\n",
    "        print('>预测=' + repr(result) + ',实际=' + repr(testSet[x][-1]))\n",
    "    accuracy = getAccuracy(testSet, predictions)\n",
    "    print('精确度为：' + repr(accuracy))\n",
    "\n",
    "main()"
   ]
  },
  {
   "cell_type": "code",
   "execution_count": null,
   "metadata": {},
   "outputs": [],
   "source": []
  },
  {
   "cell_type": "code",
   "execution_count": null,
   "metadata": {},
   "outputs": [],
   "source": []
  }
 ],
 "metadata": {
  "kernelspec": {
   "display_name": "Python 3",
   "language": "python",
   "name": "python3"
  },
  "language_info": {
   "codemirror_mode": {
    "name": "ipython",
    "version": 3
   },
   "file_extension": ".py",
   "mimetype": "text/x-python",
   "name": "python",
   "nbconvert_exporter": "python",
   "pygments_lexer": "ipython3",
   "version": "3.7.0"
  }
 },
 "nbformat": 4,
 "nbformat_minor": 2
}
